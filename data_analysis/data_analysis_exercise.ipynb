{
 "cells": [
  {
   "cell_type": "markdown",
   "metadata": {},
   "source": [
    "# ESG Practice"
   ]
  },
  {
   "cell_type": "markdown",
   "metadata": {},
   "source": [
    "목차\n",
    "1. 모듈 불러오기\n",
    "2. 파일 읽기 및 확인\n",
    "3. 로드된 데이터 확인\n",
    "4. 결측치 확인 및 처리\n",
    "5. 이상치 확인 및 처리"
   ]
  },
  {
   "cell_type": "code",
   "execution_count": 1,
   "metadata": {},
   "outputs": [],
   "source": [
    "# 모듈 불러오기\n",
    "import pandas as pd\n",
    "import numpy as np\n",
    "import matplotlib as plt \n",
    "import seaborn as sns"
   ]
  },
  {
   "cell_type": "code",
   "execution_count": 4,
   "metadata": {},
   "outputs": [],
   "source": [
    "# 파일 읽기 및 확인\n",
    "\n",
    "# 파일 경로를 현재 디렉토리로 변경\n",
    "import os\n",
    "os.chdir(\"/config/workspace/Basic/data_analysis\")\n",
    "\n",
    "# 파일 경로 설정\n",
    "file_path = \"ESG_CO2_2021.csv\"\n",
    "\n",
    "\n",
    "# 데이터 로드 (UTF-8 인토딩 시도 후 실패 시 다른 인코딩 시도\n",
    "try:\n",
    "    df = pd.read_csv(file_path, encoding='utf-8')\n",
    "except UnicodeDecodeError: \n",
    "    try:\n",
    "        df = pd.read_csv(file_path, encoding=\"cp949\")\n",
    "    except UnicodeDecodeError:\n",
    "        df = pd.read_csv(file_path, encoding=\"euc-kr\")"
   ]
  },
  {
   "cell_type": "code",
   "execution_count": 5,
   "metadata": {},
   "outputs": [
    {
     "name": "stdout",
     "output_type": "stream",
     "text": [
      "--------------------------------------------------\n",
      "데이터 타입 및 결측치 확인\n",
      "--------------------------------------------------\n",
      "<class 'pandas.core.frame.DataFrame'>\n",
      "RangeIndex: 32 entries, 0 to 31\n",
      "Data columns (total 2 columns):\n",
      " #   Column  Non-Null Count  Dtype  \n",
      "---  ------  --------------  -----  \n",
      " 0   year    32 non-null     int64  \n",
      " 1   Net     32 non-null     float64\n",
      "dtypes: float64(1), int64(1)\n",
      "memory usage: 640.0 bytes\n",
      "--------------------------------------------------\n",
      "상위 5개행 출력\n",
      "--------------------------------------------------\n",
      "   year          Net\n",
      "0  1990  254159.2211\n",
      "1  1991  281385.5253\n",
      "2  1992  310216.9541\n",
      "3  1993  346994.1520\n",
      "4  1994  369637.1600\n",
      "--------------------------------------------------\n",
      "요약 통계량 출력 (수치형 컬럼만)\n",
      "--------------------------------------------------\n",
      "              year            Net\n",
      "count    32.000000      32.000000\n",
      "mean   2005.500000  511113.240587\n",
      "std       9.380832  124286.844277\n",
      "min    1990.000000  254159.221100\n",
      "25%    1997.750000  428908.157325\n",
      "50%    2005.500000  507308.536350\n",
      "75%    2013.250000  638025.741225\n",
      "max    2021.000000  684683.642100\n",
      "--------------------------------------------------\n",
      "데이터 행,열 갯수 출력\n",
      "--------------------------------------------------\n",
      "(32, 2)\n"
     ]
    }
   ],
   "source": [
    "# 로드된 데이터 기본 정보 확인\n",
    "print(\"-\"*50)\n",
    "print('데이터 타입 및 결측치 확인')\n",
    "print(\"-\"*50)\n",
    "df.info()\n",
    "\n",
    "print(\"-\"*50)\n",
    "print('상위 5개행 출력') # print(df.head(3)) 3개만 출력\n",
    "print(\"-\"*50)\n",
    "print(df.head())\n",
    "\n",
    "print(\"-\"*50)\n",
    "print('요약 통계량 출력 (수치형 컬럼만)')\n",
    "print(\"-\"*50)\n",
    "print(df.describe())\n",
    "\n",
    "print(\"-\"*50)\n",
    "print('데이터 행,열 갯수 출력')\n",
    "print(\"-\"*50)\n",
    "print(df.shape)"
   ]
  },
  {
   "cell_type": "code",
   "execution_count": 9,
   "metadata": {},
   "outputs": [
    {
     "name": "stdout",
     "output_type": "stream",
     "text": [
      "결측치 유무 확인\n",
      "year    0\n",
      "Net     0\n",
      "dtype: int64\n",
      "\n",
      "결측치 처리여부 확인\n",
      "(32, 2)\n",
      "year    0\n",
      "Net     0\n",
      "dtype: int64\n"
     ]
    }
   ],
   "source": [
    "# 결측치 확인\n",
    "# print(df.isnull()) # 각 값이 NaN이면 True 반환\n",
    "print(\"결측치 유무 확인\")\n",
    "print(df.isnull().sum())\n",
    "\n",
    "# 결측치 처리 \n",
    "# 다음의 두 방법 중 하나를 할 수 있음\n",
    "df = df.dropna()  # 결측치가 있는 행 삭제\n",
    "df['year'] = df['year'].fillna(df['year'].mean()) # 결측치 대체\n",
    "\n",
    "# 결측치 처리되었는지 확인\n",
    "print(\"\\n결측치 처리여부 확인\")\n",
    "print(df.shape)\n",
    "print(df.isnull().sum())"
   ]
  },
  {
   "cell_type": "code",
   "execution_count": null,
   "metadata": {},
   "outputs": [],
   "source": [
    "# 데이터 타입 변환\n",
    "# df['year'] = df['year'].astype(float)"
   ]
  },
  {
   "cell_type": "code",
   "execution_count": 18,
   "metadata": {},
   "outputs": [
    {
     "name": "stdout",
     "output_type": "stream",
     "text": [
      "    year          Net\n",
      "0   1990  254159.2211\n",
      "1   1991  281385.5253\n",
      "2   1992  310216.9541\n",
      "3   1993  346994.1520\n",
      "4   1994  369637.1600\n",
      "5   1995  401626.6678\n",
      "6   1996  434432.7187\n",
      "7   1997  461298.0841\n",
      "8   1998  382505.5031\n",
      "9   1999  412334.4732\n",
      "10  2000  442635.7351\n",
      "11  2001  456469.1168\n",
      "12  2002  481101.1682\n",
      "13  2003  491936.6703\n",
      "14  2004  498765.4611\n",
      "15  2005  505161.0965\n",
      "16  2006  509455.9762\n",
      "17  2007  522071.0537\n",
      "18  2008  534495.4289\n",
      "19  2009  538470.5269\n",
      "20  2010  599016.3944\n",
      "21  2011  628553.1186\n",
      "22  2012  637740.4591\n",
      "23  2013  650683.8509\n",
      "24  2014  644902.0978\n",
      "25  2015  644769.2334\n",
      "26  2016  645467.1697\n",
      "27  2017  667721.0017\n",
      "28  2018  684683.6421\n",
      "29  2019  661493.5530\n",
      "30  2020  616558.8974\n",
      "31  2021  638881.5876\n"
     ]
    }
   ],
   "source": [
    "# 이상치 확인\n",
    "\n",
    "Q1 = df['Net'].quantile(0.25) # 1사분위수 \n",
    "Q3 = df['Net'].quantile(0.75) # 3사분위수\n",
    "IQR = Q3 - Q1 # IQR 계산\n",
    "\n",
    "lower_bound = Q1 - 1.5*IQR # 하한선\n",
    "upper_bound = Q1 - 1.5*IQR # 상한선\n",
    "\n",
    "\n",
    "outliers = df[(df['Net'] < lower_bound) | (df['Net'] > upper_bound)]\n",
    "print(outliers)"
   ]
  },
  {
   "cell_type": "code",
   "execution_count": null,
   "metadata": {},
   "outputs": [],
   "source": [
    "# 시각화 \n",
    "X = df['year']\n",
    "y = df['Net']\n",
    "\n",
    "plt.scatter(X,y)\n",
    "plt.title(\"ESG Co2\")\n",
    "plt.xlabel(\"Year\")\n",
    "plt.ylabel(\"Net\")\n",
    "\n",
    "image_file_path = \"/config/workspace/Basic/python_code/esg_data.png\"\n",
    "plt.savefig(image_file_path)\n",
    "\n",
    "plt.show()"
   ]
  }
 ],
 "metadata": {
  "kernelspec": {
   "display_name": "Python 3",
   "language": "python",
   "name": "python3"
  },
  "language_info": {
   "codemirror_mode": {
    "name": "ipython",
    "version": 3
   },
   "file_extension": ".py",
   "mimetype": "text/x-python",
   "name": "python",
   "nbconvert_exporter": "python",
   "pygments_lexer": "ipython3",
   "version": "3.10.12"
  }
 },
 "nbformat": 4,
 "nbformat_minor": 2
}
